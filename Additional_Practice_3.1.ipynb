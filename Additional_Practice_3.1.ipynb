{
 "cells": [
  {
   "cell_type": "markdown",
   "metadata": {},
   "source": [
    "### 1) Write a python program which creates a class named Cone and write a\n",
    "    function calculate_area which calculates the area of the Cone.\n",
    "     \n",
    "     Sample Execution:\n",
    "     Please enter the radius of the cone: 4\n",
    "     Please enter the height of the cone: 5\n",
    "     Area of a cone with radius: 4.00 and height: 5.00 is: 83.73"
   ]
  },
  {
   "cell_type": "code",
   "execution_count": 1,
   "metadata": {},
   "outputs": [
    {
     "name": "stdout",
     "output_type": "stream",
     "text": [
      "Please enter the radius of the cone: 4\n",
      "\n",
      "Please enter the height of the cone: 5\n",
      "\n",
      "Area of a cone with radius: 4.00 and height: 5.00 is 130.78\n"
     ]
    }
   ],
   "source": [
    "import math\n",
    "\n",
    "class Cone:\n",
    "    def __init__(self,radius,height):\n",
    "        self.radius=radius\n",
    "        self.height=height\n",
    "    def calculate_area(self):\n",
    "        area=(22.00/7)*self.radius*(self.radius+math.sqrt((self.height**2)+(self.radius**2)))\n",
    "        print(\"Area of a cone with radius: {:0.2f} and height: {:0.2f} is {:0.2f}\".format(self.radius,self.height,area))\n",
    "\n",
    "print(\"Please enter the radius of the cone: \",end=\"\")\n",
    "radius = int(input())\n",
    "print()\n",
    "print(\"Please enter the height of the cone: \",end=\"\")\n",
    "height = int(input())\n",
    "print()\n",
    "c=Cone(radius,height)\n",
    "c.calculate_area()"
   ]
  },
  {
   "cell_type": "markdown",
   "metadata": {},
   "source": [
    "### 2) Define a class MathOperation which implements pow(x,n) without using python's in-built pow() method\n",
    "    Sample Execution:\n",
    "    M = MathOperation()\n",
    "    print(M.pow(2, 3))\n",
    "    8\n",
    "    print(M.pow(5, -3))\n",
    "    0.008\n",
    "    print(M.pow(-2, 5))\n",
    "    -32\n",
    "    print(M.pow(-5, -3))\n",
    "    -0.008\n",
    "    print(M.pow(20000,0))\n",
    "    1"
   ]
  },
  {
   "cell_type": "code",
   "execution_count": 2,
   "metadata": {},
   "outputs": [
    {
     "name": "stdout",
     "output_type": "stream",
     "text": [
      "8\n",
      "0.008\n",
      "-32\n",
      "-0.008\n",
      "1\n"
     ]
    }
   ],
   "source": [
    "class MathOperation:\n",
    "    def pow(self,num1,num2):\n",
    "        return num1**num2\n",
    "\n",
    "M=MathOperation()\n",
    "print(M.pow(2,3))\n",
    "print(M.pow(5, -3))\n",
    "print(M.pow(-2, 5))\n",
    "print(M.pow(-5, -3))\n",
    "print(M.pow(20000,0))"
   ]
  },
  {
   "cell_type": "markdown",
   "metadata": {},
   "source": [
    "### 3) Write a python program that creates a class Base and Derived. Use inbuilt function issubclass and isinstance which gives boolean results.(True or False)\n",
    "     Check:\n",
    "     Derived class is a subclass of Base class which will return true\n",
    "     Base class is a subclass of Derived class which will return false\n",
    "     Base class is an instance of Derived class which will return false\n",
    "     Derived class is an instance of Base class which will return true"
   ]
  },
  {
   "cell_type": "code",
   "execution_count": 3,
   "metadata": {},
   "outputs": [
    {
     "name": "stdout",
     "output_type": "stream",
     "text": [
      "True\n",
      "False\n",
      "False\n",
      "True\n"
     ]
    }
   ],
   "source": [
    "class Base:pass\n",
    "class Derived(Base):pass\n",
    "print(issubclass(Derived,Base))\n",
    "print(issubclass(Base,Derived))\n",
    "base=Base()\n",
    "derived=Derived()\n",
    "print(isinstance(base,Derived))\n",
    "print(isinstance(derived,Base))"
   ]
  },
  {
   "cell_type": "markdown",
   "metadata": {},
   "source": [
    "### 4) Write a python program that creates base class Person which has two methods\n",
    "     def __init__(self, first, last)\n",
    "     def __str__(self)\n",
    "     \n",
    "     Also create a derived class named Employee which uses the base class\n",
    "    method “def __str__(self)” using “super()” to concatenate first name wit\n",
    "    h last name"
   ]
  },
  {
   "cell_type": "code",
   "execution_count": 4,
   "metadata": {},
   "outputs": [
    {
     "name": "stdout",
     "output_type": "stream",
     "text": [
      "Manoj Mishra\n"
     ]
    }
   ],
   "source": [
    "class Person:\n",
    "    def __init__(self,first,last):\n",
    "        self.first=first\n",
    "        self.last=last\n",
    "    def __str__(self):\n",
    "        print(self.first + \" \" + self.last)\n",
    "\n",
    "class Employee(Person):\n",
    "    def __init__(self,first,last):\n",
    "        super().__init__(first,last)\n",
    "        super().__str__()\n",
    "\n",
    "e=Employee(\"Manoj\",\"Mishra\")"
   ]
  }
 ],
 "metadata": {
  "kernelspec": {
   "display_name": "Python 3",
   "language": "python",
   "name": "python3"
  },
  "language_info": {
   "codemirror_mode": {
    "name": "ipython",
    "version": 3
   },
   "file_extension": ".py",
   "mimetype": "text/x-python",
   "name": "python",
   "nbconvert_exporter": "python",
   "pygments_lexer": "ipython3",
   "version": "3.6.5"
  }
 },
 "nbformat": 4,
 "nbformat_minor": 2
}
